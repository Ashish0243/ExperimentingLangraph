{
 "cells": [
  {
   "cell_type": "code",
   "execution_count": 10,
   "id": "963eed09",
   "metadata": {},
   "outputs": [],
   "source": [
    "from langgraph.graph import StateGraph,START,END\n",
    "from typing import TypedDict"
   ]
  },
  {
   "cell_type": "code",
   "execution_count": 14,
   "id": "4a5bfa1a",
   "metadata": {},
   "outputs": [],
   "source": [
    "class BMIState(TypedDict):\n",
    "    weight: float\n",
    "    height: float\n",
    "    bmi: float\n",
    "    category: str\n"
   ]
  },
  {
   "cell_type": "code",
   "execution_count": 15,
   "id": "0153ad10",
   "metadata": {},
   "outputs": [],
   "source": [
    "def calculate_bmi(state: BMIState) -> BMIState:\n",
    "    weight=state['weight']\n",
    "    height=state['height']\n",
    "    bmi=weight/(height**2)\n",
    "    state['bmi']=bmi\n",
    "    return state\n",
    "\n",
    "def categorize(state: BMIState) -> BMIState:\n",
    "    bmi = state['bmi']\n",
    "    if bmi < 18.5:\n",
    "        state['category'] = 'Underweight'\n",
    "    elif 18.5 <= bmi < 24.9:\n",
    "        state['category'] = 'Normal weight'\n",
    "    elif 25 <= bmi < 29.9:\n",
    "        state['category'] = 'Overweight'\n",
    "    else:\n",
    "        state['category'] = 'Obesity'\n",
    "    return state\n"
   ]
  },
  {
   "cell_type": "code",
   "execution_count": 16,
   "id": "1482a03b",
   "metadata": {},
   "outputs": [],
   "source": [
    "graph=StateGraph(BMIState)\n",
    "\n",
    "graph.add_node('calculate_bmi',calculate_bmi)\n",
    "graph.add_node('categorize',categorize)\n",
    "graph.add_edge(START,'calculate_bmi')\n",
    "graph.add_edge('calculate_bmi','categorize')\n",
    "graph.add_edge('categorize',END)\n",
    "workflow=graph.compile()\n"
   ]
  },
  {
   "cell_type": "code",
   "execution_count": 17,
   "id": "43a92cc8",
   "metadata": {},
   "outputs": [],
   "source": [
    "initial_state={\"weight\":58,\"height\":1.75}\n",
    "final_state=workflow.invoke(initial_state)"
   ]
  },
  {
   "cell_type": "code",
   "execution_count": 18,
   "id": "ce770257",
   "metadata": {},
   "outputs": [
    {
     "name": "stdout",
     "output_type": "stream",
     "text": [
      "{'weight': 58, 'height': 1.75, 'bmi': 18.93877551020408, 'category': 'Normal weight'}\n"
     ]
    }
   ],
   "source": [
    "print(final_state)"
   ]
  }
 ],
 "metadata": {
  "kernelspec": {
   "display_name": ".venv",
   "language": "python",
   "name": "python3"
  },
  "language_info": {
   "codemirror_mode": {
    "name": "ipython",
    "version": 3
   },
   "file_extension": ".py",
   "mimetype": "text/x-python",
   "name": "python",
   "nbconvert_exporter": "python",
   "pygments_lexer": "ipython3",
   "version": "3.13.6"
  }
 },
 "nbformat": 4,
 "nbformat_minor": 5
}

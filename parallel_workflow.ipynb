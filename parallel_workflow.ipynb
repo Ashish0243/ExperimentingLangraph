{
 "cells": [
  {
   "cell_type": "code",
   "execution_count": 27,
   "id": "312246ea",
   "metadata": {},
   "outputs": [],
   "source": [
    "from langgraph.graph import StateGraph,START,END\n",
    "from dotenv import load_dotenv\n",
    "from typing import TypedDict,Annotated\n",
    "from langchain_google_genai import  ChatGoogleGenerativeAI\n",
    "from pydantic import BaseModel, Field\n",
    "import operator"
   ]
  },
  {
   "cell_type": "code",
   "execution_count": 28,
   "id": "c0bc8e91",
   "metadata": {},
   "outputs": [],
   "source": [
    "import os\n",
    "load_dotenv()\n",
    "api_key=os.getenv(\"GOOGLE_API_KEY\")"
   ]
  },
  {
   "cell_type": "code",
   "execution_count": 29,
   "id": "f5d88084",
   "metadata": {},
   "outputs": [],
   "source": [
    "model=ChatGoogleGenerativeAI(\n",
    "    api_key=api_key,\n",
    "    model=\"gemini-2.5-flash\"\n",
    ")"
   ]
  },
  {
   "cell_type": "code",
   "execution_count": 30,
   "id": "abfd6615",
   "metadata": {},
   "outputs": [],
   "source": [
    "class EvaluationSchema(BaseModel):\n",
    "    feedback: str = Field(description=\"give a crisp feedback of the essay\")\n",
    "    score: int = Field(description=\"give a score out of 10 for the essay\", ge=0, le=10)\n",
    "\n",
    "structured_model=model.with_structured_output(EvaluationSchema)"
   ]
  },
  {
   "cell_type": "code",
   "execution_count": 31,
   "id": "b331fa89",
   "metadata": {},
   "outputs": [],
   "source": [
    "class UPSCState(TypedDict):\n",
    "    essay: str\n",
    "    language_feedback: str\n",
    "    analysis_feedback:str\n",
    "    clarity_feedback:str\n",
    "    overall_feedback:str\n",
    "    individual_scores: Annotated[list[int], operator.add]\n",
    "    average_score: float\n"
   ]
  },
  {
   "cell_type": "code",
   "execution_count": 32,
   "id": "32b0863c",
   "metadata": {},
   "outputs": [],
   "source": [
    "def evaluate_language(state: UPSCState):\n",
    "    prompt=f\"evaluate the language quality of the following essay and provide a feedback + a score from 0 to 10 : {state['essay']}\"\n",
    "    output=structured_model.invoke(prompt)\n",
    "    return {\"language_feedback\": output.feedback,\"individual_scores\": [output.score]}"
   ]
  },
  {
   "cell_type": "code",
   "execution_count": 33,
   "id": "8e8abac3",
   "metadata": {},
   "outputs": [],
   "source": [
    "def evaluate_analysis(state: UPSCState):\n",
    "    prompt=f\"evaluate the depth of analysis of the following essay and provide a feedback + a score from 0 to 10 : {state['essay']}\"\n",
    "    output=structured_model.invoke(prompt)\n",
    "    return {\"analysis_feedback\": output.feedback,\"individual_scores\": [output.score]}"
   ]
  },
  {
   "cell_type": "code",
   "execution_count": 34,
   "id": "2931fbae",
   "metadata": {},
   "outputs": [],
   "source": [
    "def evaluate_clarity(state: UPSCState):\n",
    "    prompt=f\"evaluate the clarity of thoughts of the following essay and provide a feedback + a score from 0 to 10 : {state['essay']}\"\n",
    "    output=structured_model.invoke(prompt)\n",
    "    return {\"clarity_feedback\": output.feedback,\"individual_scores\": [output.score]}"
   ]
  },
  {
   "cell_type": "code",
   "execution_count": 40,
   "id": "3354c26c",
   "metadata": {},
   "outputs": [],
   "source": [
    "def evaluate_overall(state: UPSCState):\n",
    "    prompt= f\"Based on the following feedback create a summarized feedback: \\n Language Feedback: {state['language_feedback']} \\n Analysis Feedback: {state['analysis_feedback']} \\n Clarity Feedback: {state['clarity_feedback']} \"\n",
    "    output=model.invoke(prompt).content\n",
    "\n",
    "    avg_score=round(sum(state['individual_scores'])/len(state['individual_scores']),2)\n",
    "    return {\"overall_feedback\":output,\"average_score\":avg_score}\n"
   ]
  },
  {
   "cell_type": "code",
   "execution_count": 36,
   "id": "0cbd61f5",
   "metadata": {},
   "outputs": [],
   "source": [
    "graph=StateGraph(UPSCState)\n",
    "graph.add_node(\"evaluate_language\",evaluate_language)\n",
    "graph.add_node(\"evaluate_analysis\",evaluate_analysis)\n",
    "graph.add_node(\"evaluate_clarity\",evaluate_clarity)\n",
    "graph.add_node(\"evaluate_overall\",evaluate_overall)\n",
    "\n",
    "graph.add_edge(START,\"evaluate_language\")\n",
    "graph.add_edge(START,\"evaluate_analysis\")\n",
    "graph.add_edge(START,\"evaluate_clarity\")\n",
    "graph.add_edge(\"evaluate_language\",\"evaluate_overall\")\n",
    "graph.add_edge(\"evaluate_analysis\",\"evaluate_overall\")\n",
    "graph.add_edge(\"evaluate_clarity\",\"evaluate_overall\")\n",
    "graph.add_edge(\"evaluate_overall\",END)\n",
    "\n",
    "workflow=graph.compile()"
   ]
  },
  {
   "cell_type": "code",
   "execution_count": 37,
   "id": "7e8657f4",
   "metadata": {},
   "outputs": [
    {
     "data": {
      "image/png": "[encoded data removed]",
      "text/plain": [
       "<langgraph.graph.state.CompiledStateGraph object at 0x00000213AA4F3250>"
      ]
     },
     "execution_count": 37,
     "metadata": {},
     "output_type": "execute_result"
    }
   ],
   "source": [
    "workflow"
   ]
  },
  {
   "cell_type": "code",
   "execution_count": 41,
   "id": "3a8ec87d",
   "metadata": {},
   "outputs": [
    {
     "name": "stdout",
     "output_type": "stream",
     "text": [
      "Here's a summarized feedback based on the provided points:\n",
      "\n",
      "The essay is highly commended for its **strong writing quality and clarity**. It is well-written, clear, and heartfelt, effectively using descriptive language and personal anecdotes to convey the importance of friendship. The structure is logical, well-organized, and ensures a smooth, easy-to-follow progression of ideas.\n",
      "\n",
      "While the essay excels in describing your bond with your friend, the primary area for growth lies in **deepening the analytical aspect**. Currently, it is more descriptive than critically analytical. To enhance this, consider exploring *why* certain qualities of friendship are crucial, *how* specific events shaped your understanding of the bond, or what *universal aspects* of friendship your unique relationship illuminates.\n",
      "[7, 9, 8]\n",
      "8.0\n"
     ]
    }
   ],
   "source": [
    "Myessay='''A best friend is someone who understands you completely, supports you in every situation, and makes life brighter with their presence. Among all the people I know, my best friend stands out as a constant source of joy, trust, and inspiration.\n",
    "My best friend's name is Rohan. We have known each other since the first day of school, and over the years, our bond has grown stronger. He is kind, honest, and always ready to help others. What I admire most about him is his positive attitude, even when things do not go as planned. His cheerful smile can instantly lift my mood, and his wise advice has guided me through many difficult situations.\n",
    "We share many interests, such as playing football, reading adventure novels, and exploring new places. Whenever we spend time together, it is filled with laughter, learning, and unforgettable memories. Rohan is also a great listener. I can talk to him about anything without fear of being judged. He keeps my secrets safe and encourages me to be a better person every day.\n",
    "One of the most memorable moments with my best friend was when we participated in a science competition. We worked together for weeks, supported each other during stressful times, and eventually won first place. That experience not only brought us closer but also taught us the value of teamwork and trust.\n",
    "In conclusion, my best friend is more than just a companion; he is like a brother to me. I feel lucky to have someone who stands by my side through thick and thin. True friendship is rare, and I cherish ours deeply. I hope our bond lasts forever, because life feels incomplete without a best friend like Rohan.\n",
    "'''\n",
    "initial_state={\n",
    "    \"essay\":Myessay\n",
    "}\n",
    "final_state=workflow.invoke(initial_state)\n",
    "print(final_state[\"overall_feedback\"])\n",
    "print(final_state['individual_scores'])\n",
    "print(final_state[\"average_score\"])"
   ]
  }
 ],
 "metadata": {
  "kernelspec": {
   "display_name": ".venv",
   "language": "python",
   "name": "python3"
  },
  "language_info": {
   "codemirror_mode": {
    "name": "ipython",
    "version": 3
   },
   "file_extension": ".py",
   "mimetype": "text/x-python",
   "name": "python",
   "nbconvert_exporter": "python",
   "pygments_lexer": "ipython3",
   "version": "3.13.6"
  }
 },
 "nbformat": 4,
 "nbformat_minor": 5
}

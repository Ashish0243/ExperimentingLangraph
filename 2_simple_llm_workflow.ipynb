{
 "cells": [
  {
   "cell_type": "code",
   "execution_count": 1,
   "id": "52b6eb0b",
   "metadata": {},
   "outputs": [],
   "source": [
    "import os\n",
    "from dotenv import load_dotenv\n",
    "load_dotenv()\n",
    "api_key = os.getenv(\"GOOGLE_API_KEY\")"
   ]
  },
  {
   "cell_type": "code",
   "execution_count": 6,
   "id": "50703944",
   "metadata": {},
   "outputs": [],
   "source": [
    "from langgraph.graph import StateGraph,START,END\n",
    "from typing import TypedDict\n",
    "from langchain_google_genai import  ChatGoogleGenerativeAI"
   ]
  },
  {
   "cell_type": "code",
   "execution_count": 3,
   "id": "35b527ed",
   "metadata": {},
   "outputs": [],
   "source": [
    "model=ChatGoogleGenerativeAI(\n",
    "    api_key=api_key,\n",
    "    model=\"gemini-2.5-flash\"\n",
    ")"
   ]
  },
  {
   "cell_type": "code",
   "execution_count": 4,
   "id": "1a16b604",
   "metadata": {},
   "outputs": [],
   "source": [
    "class LLMState(TypedDict):\n",
    "    ques:str\n",
    "    ans:str"
   ]
  },
  {
   "cell_type": "code",
   "execution_count": 11,
   "id": "404d1754",
   "metadata": {},
   "outputs": [],
   "source": [
    "def ask_question(state: LLMState) -> LLMState:\n",
    "    question=state['ques']\n",
    "    prompt=f'Answer the question accurately and in less than 100 words: {question}'\n",
    "    answer=model.invoke(prompt).content\n",
    "    state['ans'] = answer\n",
    "    return state"
   ]
  },
  {
   "cell_type": "code",
   "execution_count": 8,
   "id": "227772ec",
   "metadata": {},
   "outputs": [],
   "source": [
    "graph=StateGraph(LLMState)\n",
    "graph.add_node('ask_question',ask_question)\n",
    "graph.add_edge(START,'ask_question')\n",
    "graph.add_edge('ask_question',END)\n",
    "workflow=graph.compile()"
   ]
  },
  {
   "cell_type": "code",
   "execution_count": 12,
   "id": "f6893c28",
   "metadata": {},
   "outputs": [],
   "source": [
    "initial_state={'ques':\"How am i able to stand on earth rather than floating.\"}\n",
    "final_state=workflow.invoke(initial_state)"
   ]
  },
  {
   "cell_type": "code",
   "execution_count": 13,
   "id": "58e08d04",
   "metadata": {},
   "outputs": [
    {
     "name": "stdout",
     "output_type": "stream",
     "text": [
      "{'ques': 'How am i able to stand on earth rather than floating.', 'ans': \"You are able to stand on Earth rather than floating primarily because of **gravity**.\\n\\nHere's a breakdown of how it works:\\n\\n1.  **Earth's Gravity:** The Earth is a massive object. Anything with mass exerts a gravitational pull on other objects with mass. Because the Earth is so incredibly massive, its gravitational pull is very strong. This pull constantly tugs everything on its surface (including you) downwards, towards the center of the planet.\\n\\n2.  **Your Weight:** This gravitational pull acting on your mass is what we call your **weight**. It's the force pulling you down.\\n\\n3.  **The Ground Pushes Back (Normal Force):** When you stand on the ground, the Earth's gravity pulls you downwards. However, you don't fall *through* the ground because the ground itself is solid and pushes back with an equal and opposite force. This upward push from the surface is called the **normal force** (or ground reaction force).\\n\\n4.  **Equilibrium:** As long as you are standing still, the downward force of your weight is perfectly balanced by the upward normal force from the ground. These two forces cancel each other out, which means there's no net force causing you to accelerate upwards or downwards, so you remain stationary on the surface.\\n\\nIn essence, you're constantly being pulled down by Earth's immense gravity, but the solid ground prevents you from falling, providing the necessary resistance to keep you firmly planted. If there were no gravity, or if you were in a place where the gravitational pull was extremely weak (like deep space), you would indeed float.\"}\n"
     ]
    }
   ],
   "source": [
    "print(final_state)"
   ]
  },
  {
   "cell_type": "code",
   "execution_count": 14,
   "id": "db1e983f",
   "metadata": {},
   "outputs": [
    {
     "name": "stdout",
     "output_type": "stream",
     "text": [
      "You are able to stand on Earth rather than floating primarily because of **gravity**.\n",
      "\n",
      "Here's a breakdown of how it works:\n",
      "\n",
      "1.  **Earth's Gravity:** The Earth is a massive object. Anything with mass exerts a gravitational pull on other objects with mass. Because the Earth is so incredibly massive, its gravitational pull is very strong. This pull constantly tugs everything on its surface (including you) downwards, towards the center of the planet.\n",
      "\n",
      "2.  **Your Weight:** This gravitational pull acting on your mass is what we call your **weight**. It's the force pulling you down.\n",
      "\n",
      "3.  **The Ground Pushes Back (Normal Force):** When you stand on the ground, the Earth's gravity pulls you downwards. However, you don't fall *through* the ground because the ground itself is solid and pushes back with an equal and opposite force. This upward push from the surface is called the **normal force** (or ground reaction force).\n",
      "\n",
      "4.  **Equilibrium:** As long as you are standing still, the downward force of your weight is perfectly balanced by the upward normal force from the ground. These two forces cancel each other out, which means there's no net force causing you to accelerate upwards or downwards, so you remain stationary on the surface.\n",
      "\n",
      "In essence, you're constantly being pulled down by Earth's immense gravity, but the solid ground prevents you from falling, providing the necessary resistance to keep you firmly planted. If there were no gravity, or if you were in a place where the gravitational pull was extremely weak (like deep space), you would indeed float.\n"
     ]
    }
   ],
   "source": [
    "print(final_state['ans'])"
   ]
  }
 ],
 "metadata": {
  "kernelspec": {
   "display_name": ".venv",
   "language": "python",
   "name": "python3"
  },
  "language_info": {
   "codemirror_mode": {
    "name": "ipython",
    "version": 3
   },
   "file_extension": ".py",
   "mimetype": "text/x-python",
   "name": "python",
   "nbconvert_exporter": "python",
   "pygments_lexer": "ipython3",
   "version": "3.13.6"
  }
 },
 "nbformat": 4,
 "nbformat_minor": 5
}
